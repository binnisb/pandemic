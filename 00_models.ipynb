{
 "cells": [
  {
   "cell_type": "code",
   "execution_count": null,
   "metadata": {},
   "outputs": [],
   "source": [
    "#hide\n",
    "%load_ext autoreload\n",
    "%autoreload 2"
   ]
  },
  {
   "cell_type": "code",
   "execution_count": null,
   "metadata": {},
   "outputs": [],
   "source": [
    "# default_exp models"
   ]
  },
  {
   "cell_type": "markdown",
   "metadata": {},
   "source": [
    "# Models\n",
    "\n",
    "> SIR etc"
   ]
  },
  {
   "cell_type": "code",
   "execution_count": null,
   "metadata": {},
   "outputs": [],
   "source": [
    "#hide\n",
    "from nbdev.showdoc import *"
   ]
  },
  {
   "cell_type": "code",
   "execution_count": null,
   "metadata": {},
   "outputs": [],
   "source": [
    "# export\n",
    "import attr\n",
    "import pandas as pd\n",
    "import numpy as np\n",
    "from scipy.integrate import solve_ivp\n",
    "import seaborn as sns\n",
    "sns.set(style=\"ticks\")\n",
    "\n",
    "@attr.s\n",
    "class SIR(object):\n",
    "    N = attr.ib(converter=int)\n",
    "    I = attr.ib(converter=float)\n",
    "    beta = attr.ib(converter=float)\n",
    "    gamma = attr.ib(converter=float)\n",
    "    days = attr.ib(converter=int, default=200)\n",
    "    \n",
    "    S = attr.ib(init=False, converter=float)\n",
    "    \n",
    "    R = attr.ib(init=False, converter=float, default=0.0)\n",
    "    \n",
    "    \n",
    "    def __attrs_post_init__(self):\n",
    "        self.S = self.N - self.I - self.R\n",
    "    \n",
    "    \n",
    "    @staticmethod\n",
    "    def ode(t, y, beta, gamma, N):\n",
    "        S, I, R = y\n",
    "        \n",
    "        new_cases = beta*S*I/N\n",
    "        removed_cases = gamma*I\n",
    "        S = -new_cases\n",
    "        I = new_cases - removed_cases\n",
    "        R = removed_cases\n",
    "\n",
    "        y = (S,I,R)\n",
    "\n",
    "        return y\n",
    "    \n",
    "    def solve_days(self):\n",
    "        y = (self.S, self.I, self.R)\n",
    "        return solve_ivp(SIR.ode, [0,self.days], y,t_eval=np.arange(0,self.days), args=(self.beta, self.gamma, self.N))\n",
    "\n",
    "        \n",
    "    def plot(self):\n",
    "        sol = self.solve_days()\n",
    "        df_sol = pd.DataFrame(sol.y.T, index=sol.t, columns=[\"S\",\"I\",\"R\"])\n",
    "        sns.lineplot(data=df_sol)\n"
   ]
  },
  {
   "cell_type": "markdown",
   "metadata": {},
   "source": [
    "## Class methods"
   ]
  },
  {
   "cell_type": "code",
   "execution_count": null,
   "metadata": {},
   "outputs": [
    {
     "data": {
      "text/markdown": [
       "<h4 id=\"SIR.ode\" class=\"doc_header\"><code>SIR.ode</code><a href=\"__main__.py#L26\" class=\"source_link\" style=\"float:right\">[source]</a></h4>\n",
       "\n",
       "> <code>SIR.ode</code>(**`t`**, **`y`**, **`beta`**, **`gamma`**, **`N`**)\n",
       "\n"
      ],
      "text/plain": [
       "<IPython.core.display.Markdown object>"
      ]
     },
     "metadata": {},
     "output_type": "display_data"
    }
   ],
   "source": [
    "show_doc(SIR.ode)"
   ]
  },
  {
   "cell_type": "markdown",
   "metadata": {},
   "source": [
    "## Instance methods"
   ]
  },
  {
   "cell_type": "code",
   "execution_count": null,
   "metadata": {},
   "outputs": [
    {
     "data": {
      "text/markdown": [
       "<h4 id=\"SIR.solve_days\" class=\"doc_header\"><code>SIR.solve_days</code><a href=\"__main__.py#L40\" class=\"source_link\" style=\"float:right\">[source]</a></h4>\n",
       "\n",
       "> <code>SIR.solve_days</code>()\n",
       "\n"
      ],
      "text/plain": [
       "<IPython.core.display.Markdown object>"
      ]
     },
     "metadata": {},
     "output_type": "display_data"
    },
    {
     "data": {
      "text/markdown": [
       "<h4 id=\"SIR.plot\" class=\"doc_header\"><code>SIR.plot</code><a href=\"__main__.py#L45\" class=\"source_link\" style=\"float:right\">[source]</a></h4>\n",
       "\n",
       "> <code>SIR.plot</code>()\n",
       "\n"
      ],
      "text/plain": [
       "<IPython.core.display.Markdown object>"
      ]
     },
     "metadata": {},
     "output_type": "display_data"
    }
   ],
   "source": [
    "show_doc(SIR.solve_days)\n",
    "show_doc(SIR.plot)"
   ]
  },
  {
   "cell_type": "code",
   "execution_count": null,
   "metadata": {},
   "outputs": [
    {
     "data": {
      "text/plain": [
       "SIR(N=5000, I=6.0, beta=0.3, gamma=0.1, days=200, S=4994.0, R=0.0)"
      ]
     },
     "execution_count": null,
     "metadata": {},
     "output_type": "execute_result"
    }
   ],
   "source": [
    "m = SIR(5000,6,0.3,0.1)\n",
    "m"
   ]
  },
  {
   "cell_type": "code",
   "execution_count": null,
   "metadata": {},
   "outputs": [
    {
     "data": {
      "image/png": "[encoded data removed]",
      "text/plain": [
       "<Figure size 432x288 with 1 Axes>"
      ]
     },
     "metadata": {},
     "output_type": "display_data"
    }
   ],
   "source": [
    "df_sol = m.plot()"
   ]
  },
  {
   "cell_type": "code",
   "execution_count": null,
   "metadata": {},
   "outputs": [
    {
     "name": "stdout",
     "output_type": "stream",
     "text": [
      "Converted 00_models.ipynb.\n",
      "Converted index.ipynb.\n"
     ]
    }
   ],
   "source": [
    "#hide\n",
    "from nbdev.export import notebook2script\n",
    "notebook2script()"
   ]
  },
  {
   "cell_type": "code",
   "execution_count": null,
   "metadata": {},
   "outputs": [],
   "source": []
  }
 ],
 "metadata": {
  "kernelspec": {
   "display_name": "Python 3.7.5 64-bit ('.venv': venv)",
   "language": "python",
   "name": "python37564bitvenvvenv20e304c1e78f42e28719be0fb6019550"
  }
 },
 "nbformat": 4,
 "nbformat_minor": 4
}
